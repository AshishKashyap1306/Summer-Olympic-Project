{
  "nbformat": 4,
  "nbformat_minor": 0,
  "metadata": {
    "kernelspec": {
      "display_name": "Python 2",
      "language": "python",
      "name": "python2"
    },
    "language_info": {
      "codemirror_mode": {
        "name": "ipython",
        "version": 2
      },
      "file_extension": ".py",
      "mimetype": "text/x-python",
      "name": "python",
      "nbconvert_exporter": "python",
      "pygments_lexer": "ipython2",
      "version": "2.7.16"
    },
    "colab": {
      "name": "Summer.ipynb",
      "provenance": []
    }
  },
  "cells": [
    {
      "cell_type": "markdown",
      "metadata": {
        "id": "63kMH-E2pBx1"
      },
      "source": [
        "# Summer Olympics Data Analysis Assignment"
      ]
    },
    {
      "cell_type": "markdown",
      "metadata": {
        "id": "b_M40tfvpBx3"
      },
      "source": [
        "### 1. In how many cities Summer Olympics is held so far?"
      ]
    },
    {
      "cell_type": "code",
      "metadata": {
        "colab": {
          "base_uri": "https://localhost:8080/"
        },
        "id": "tk8ToJvIpBx5",
        "outputId": "cd64a611-94b5-48fb-d1e4-67d7de140488"
      },
      "source": [
        "import pandas as pd\n",
        "df=pd.read_csv(\"summer.csv\")\n",
        "df['City'].unique()\n",
        "c=0\n",
        "for city in df['City'].unique():\n",
        "  c=c+1\n",
        "print(\"In \"+str(c)+\" cities Summer Olympics is held so far\")"
      ],
      "execution_count": 94,
      "outputs": [
        {
          "output_type": "stream",
          "name": "stdout",
          "text": [
            "In 14 cities Summer Olympics is held so far\n"
          ]
        }
      ]
    },
    {
      "cell_type": "markdown",
      "metadata": {
        "id": "76yr-zmgpBx6"
      },
      "source": [
        "### 2. Which sport is having most number of Gold Medals so far? (Top 5)"
      ]
    },
    {
      "cell_type": "code",
      "metadata": {
        "colab": {
          "base_uri": "https://localhost:8080/",
          "height": 505
        },
        "id": "pNkTz4xqpBx6",
        "outputId": "1cbdc202-fc05-4500-812e-45568e24714c"
      },
      "source": [
        "data=df.values\n",
        "lst=[]\n",
        "for sport in df['Sport'].unique():\n",
        "  c=0\n",
        "  for i in range(len(data)):\n",
        "    if(data[i][2]==sport and data[i][8]=='Gold'):\n",
        "      c+=1\n",
        "  lst.append([sport,c])\n",
        "lst=pd.DataFrame(lst, columns=('Sport','Gold Freq'))\n",
        "lst=lst.sort_values(by='Gold Freq', ascending=False).head()\n",
        "print(lst)\n",
        "lst.plot(x='Sport',y='Gold Freq',kind='bar',figsize=(10,5))"
      ],
      "execution_count": 95,
      "outputs": [
        {
          "output_type": "stream",
          "name": "stdout",
          "text": [
            "         Sport  Gold Freq\n",
            "1    Athletics        597\n",
            "4   Gymnastics        499\n",
            "0     Aquatics        486\n",
            "17      Rowing        348\n",
            "3      Fencing        303\n"
          ]
        },
        {
          "output_type": "execute_result",
          "data": {
            "text/plain": [
              "<matplotlib.axes._subplots.AxesSubplot at 0x7f15ac777690>"
            ]
          },
          "metadata": {},
          "execution_count": 95
        },
        {
          "output_type": "display_data",
          "data": {
            "image/png": "[encoded data removed]",
            "text/plain": [
              "<Figure size 720x360 with 1 Axes>"
            ]
          },
          "metadata": {
            "needs_background": "light"
          }
        }
      ]
    },
    {
      "cell_type": "markdown",
      "metadata": {
        "id": "fpU1IWaipBx7"
      },
      "source": [
        "### 3. Which sport is having most number of medals so far? (Top 5)"
      ]
    },
    {
      "cell_type": "code",
      "metadata": {
        "colab": {
          "base_uri": "https://localhost:8080/",
          "height": 505
        },
        "id": "2_1ieWXxpBx7",
        "outputId": "83bc3578-60a3-4564-9199-81025aec2ca7"
      },
      "source": [
        "data=[]\n",
        "for sport in df['Sport'].unique():\n",
        "   data.append([sport, len(df[df['Sport']==sport])])\n",
        "data=pd.DataFrame(data, columns=['Sport','Medal freq'])\n",
        "data=data.sort_values(by='Medal freq', ascending=False).head()\n",
        "print(data)\n",
        "data.plot(x='Sport',y='Medal freq',kind='bar',figsize=(10,5))"
      ],
      "execution_count": 96,
      "outputs": [
        {
          "output_type": "stream",
          "name": "stdout",
          "text": [
            "         Sport  Medal freq\n",
            "1    Athletics        1775\n",
            "0     Aquatics        1441\n",
            "4   Gymnastics        1359\n",
            "17      Rowing        1040\n",
            "3      Fencing         870\n"
          ]
        },
        {
          "output_type": "execute_result",
          "data": {
            "text/plain": [
              "<matplotlib.axes._subplots.AxesSubplot at 0x7f15ac843950>"
            ]
          },
          "metadata": {},
          "execution_count": 96
        },
        {
          "output_type": "display_data",
          "data": {
            "image/png": "[encoded data removed]",
            "text/plain": [
              "<Figure size 720x360 with 1 Axes>"
            ]
          },
          "metadata": {
            "needs_background": "light"
          }
        }
      ]
    },
    {
      "cell_type": "markdown",
      "metadata": {
        "id": "d-XGV-5GpBx8"
      },
      "source": [
        "### 4. Which player has won most number of medals? (Top 5)"
      ]
    },
    {
      "cell_type": "code",
      "metadata": {
        "colab": {
          "base_uri": "https://localhost:8080/",
          "height": 564
        },
        "id": "1TAvQUUhpBx8",
        "outputId": "8f8eda31-69ad-4e73-fa17-037de843fcdc"
      },
      "source": [
        "data=[]\n",
        "for athlete in df['Athlete'].unique():\n",
        "   data.append([athlete, len(df[df['Athlete']==athlete])])\n",
        "data=pd.DataFrame(data, columns=['Athlete','Medal freq'])\n",
        "data=data.sort_values(by='Medal freq', ascending=False).head()\n",
        "print(data)\n",
        "data.plot(x='Athlete',y='Medal freq',kind='bar',figsize=(10,5))"
      ],
      "execution_count": 97,
      "outputs": [
        {
          "output_type": "stream",
          "name": "stdout",
          "text": [
            "                   Athlete  Medal freq\n",
            "7197      LATYNINA, Larisa          18\n",
            "7201       SHAKHLIN, Boris          13\n",
            "5103  MANGIAROTTI, Edoardo          13\n",
            "6591          ONO, Takashi          13\n",
            "2262          NURMI, Paavo          12\n"
          ]
        },
        {
          "output_type": "execute_result",
          "data": {
            "text/plain": [
              "<matplotlib.axes._subplots.AxesSubplot at 0x7f15ac859210>"
            ]
          },
          "metadata": {},
          "execution_count": 97
        },
        {
          "output_type": "display_data",
          "data": {
            "image/png": "[encoded data removed]",
            "text/plain": [
              "<Figure size 720x360 with 1 Axes>"
            ]
          },
          "metadata": {
            "needs_background": "light"
          }
        }
      ]
    },
    {
      "cell_type": "markdown",
      "metadata": {
        "id": "XofawPenpBx8"
      },
      "source": [
        "### 5. Which player has won most number Gold Medals of medals? (Top 5)"
      ]
    },
    {
      "cell_type": "code",
      "metadata": {
        "colab": {
          "base_uri": "https://localhost:8080/",
          "height": 585
        },
        "id": "qZueDroTpBx9",
        "outputId": "b615365a-611d-4b32-d776-5a07a97db695"
      },
      "source": [
        "data=df.values\n",
        "lst=[]\n",
        "for athlete in df['Athlete'].unique():\n",
        "  c=0\n",
        "  for i in range(len(data)):\n",
        "    if(data[i][4]==athlete and data[i][8]=='Gold'):\n",
        "      c+=1\n",
        "  lst.append([athlete,c])\n",
        "lst=pd.DataFrame(lst, columns=('Athlete','Gold Freq'))\n",
        "lst=lst.sort_values(by='Gold Freq', ascending=False).head()\n",
        "print(lst)\n",
        "lst.plot(x='Athlete',y='Gold Freq',kind='bar',figsize=(10,5))"
      ],
      "execution_count": 98,
      "outputs": [
        {
          "output_type": "stream",
          "name": "stdout",
          "text": [
            "                         Athlete  Gold Freq\n",
            "7197            LATYNINA, Larisa          9\n",
            "2262                NURMI, Paavo          9\n",
            "191                    EWRY, Ray          8\n",
            "6548  CHUKARIN, Viktor Ivanovich          7\n",
            "7201             SHAKHLIN, Boris          7\n"
          ]
        },
        {
          "output_type": "execute_result",
          "data": {
            "text/plain": [
              "<matplotlib.axes._subplots.AxesSubplot at 0x7f15ac5e7410>"
            ]
          },
          "metadata": {},
          "execution_count": 98
        },
        {
          "output_type": "display_data",
          "data": {
            "image/png": "[encoded data removed]",
            "text/plain": [
              "<Figure size 720x360 with 1 Axes>"
            ]
          },
          "metadata": {
            "needs_background": "light"
          }
        }
      ]
    },
    {
      "cell_type": "markdown",
      "metadata": {
        "id": "nsCwhTC7pBx9"
      },
      "source": [
        "### 6. In which year India won first Gold Medal in Summer Olympics?"
      ]
    },
    {
      "cell_type": "code",
      "metadata": {
        "colab": {
          "base_uri": "https://localhost:8080/"
        },
        "id": "0LDyLX2XpBx9",
        "outputId": "f05eebfd-dc3d-4451-b747-d3267ebe05c2"
      },
      "source": [
        "data=df.values\n",
        "for i in range(len(data)):\n",
        "    if(data[i][5]=='IND' and data[i][8]=='Gold'):\n",
        "      print('India won first Gold Medal in Summer Olympics in '+str(data[i][0]))\n",
        "      break\n",
        "      "
      ],
      "execution_count": 99,
      "outputs": [
        {
          "output_type": "stream",
          "name": "stdout",
          "text": [
            "India won first Gold Medal in Summer Olympics in 1928\n"
          ]
        }
      ]
    },
    {
      "cell_type": "markdown",
      "metadata": {
        "id": "Vyc32yuqpBx9"
      },
      "source": [
        "### 7. Which event is most popular in terms on number of players? (Top 5)"
      ]
    },
    {
      "cell_type": "code",
      "metadata": {
        "colab": {
          "base_uri": "https://localhost:8080/",
          "height": 505
        },
        "id": "HM5cAw_QpBx-",
        "outputId": "03b31acb-dd5a-4f8f-c3cb-f5948485a122"
      },
      "source": [
        "data=df.values\n",
        "lst=[]\n",
        "for sport in df['Sport'].unique():\n",
        "  c=0\n",
        "  player=[]\n",
        "  for i in range(len(data)):\n",
        "    if(data[i][2]==sport and (data[i][4] not in player)):\n",
        "      player.append(data[i][4])\n",
        "      c+=1\n",
        "  lst.append([sport,c])\n",
        "lst=pd.DataFrame(lst, columns=('Sport','Player Freq'))\n",
        "lst=lst.sort_values(by='Player Freq', ascending=False).head()\n",
        "print(lst)\n",
        "lst.plot(x='Sport',y='Player Freq',kind='bar',figsize=(10,5))"
      ],
      "execution_count": 102,
      "outputs": [
        {
          "output_type": "stream",
          "name": "stdout",
          "text": [
            "         Sport  Player Freq\n",
            "1    Athletics         1300\n",
            "0     Aquatics          939\n",
            "17      Rowing          923\n",
            "4   Gymnastics          876\n",
            "14    Football          599\n"
          ]
        },
        {
          "output_type": "execute_result",
          "data": {
            "text/plain": [
              "<matplotlib.axes._subplots.AxesSubplot at 0x7f15ac59e410>"
            ]
          },
          "metadata": {},
          "execution_count": 102
        },
        {
          "output_type": "display_data",
          "data": {
            "image/png": "[encoded data removed]",
            "text/plain": [
              "<Figure size 720x360 with 1 Axes>"
            ]
          },
          "metadata": {
            "needs_background": "light"
          }
        }
      ]
    },
    {
      "cell_type": "markdown",
      "metadata": {
        "id": "1C-zSB7upBx-"
      },
      "source": [
        "### 8. Which sport is having most female Gold Medalists? (Top 5)"
      ]
    },
    {
      "cell_type": "code",
      "metadata": {
        "colab": {
          "base_uri": "https://localhost:8080/",
          "height": 505
        },
        "id": "W6sReMS-pBx-",
        "outputId": "34a782d1-ca20-4433-981c-8026259c06aa"
      },
      "source": [
        "data=df.values\n",
        "lst=[]\n",
        "for sport in df['Sport'].unique():\n",
        "  c=0\n",
        "  for i in range(len(data)):\n",
        "    if(data[i][2]==sport and data[i][6]=='Women' and data[i][8]=='Gold'):\n",
        "      c+=1\n",
        "  lst.append([sport,c])\n",
        "lst=pd.DataFrame(lst, columns=('Sport','Gold Freq'))\n",
        "lst=lst.sort_values(by='Gold Freq', ascending=False).head()\n",
        "print(lst)\n",
        "lst.plot(x='Sport',y='Gold Freq',kind='bar',figsize=(10,5))"
      ],
      "execution_count": 101,
      "outputs": [
        {
          "output_type": "stream",
          "name": "stdout",
          "text": [
            "        Sport  Gold Freq\n",
            "0    Aquatics        140\n",
            "1   Athletics        105\n",
            "4  Gymnastics        101\n",
            "3     Fencing         26\n",
            "6      Tennis         16\n"
          ]
        },
        {
          "output_type": "execute_result",
          "data": {
            "text/plain": [
              "<matplotlib.axes._subplots.AxesSubplot at 0x7f15ac6f37d0>"
            ]
          },
          "metadata": {},
          "execution_count": 101
        },
        {
          "output_type": "display_data",
          "data": {
            "image/png": "[encoded data removed]",
            "text/plain": [
              "<Figure size 720x360 with 1 Axes>"
            ]
          },
          "metadata": {
            "needs_background": "light"
          }
        }
      ]
    },
    {
      "cell_type": "code",
      "metadata": {
        "id": "ajRGinBHFgK2"
      },
      "source": [
        ""
      ],
      "execution_count": null,
      "outputs": []
    }
  ]
}